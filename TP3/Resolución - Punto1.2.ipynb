{
 "cells": [
  {
   "cell_type": "code",
   "execution_count": 14,
   "metadata": {
    "collapsed": true
   },
   "outputs": [],
   "source": [
    "import pandas as pd\n",
    "import numpy as np\n",
    "from sqlalchemy import MetaData, create_engine, Table, Column, ForeignKey\n",
    "from sqlalchemy import Integer, String, Date, Float, Time"
   ]
  },
  {
   "cell_type": "code",
   "execution_count": 12,
   "metadata": {
    "collapsed": true
   },
   "outputs": [],
   "source": [
    "#Constantes\n",
    "DB = \"tp312\"\n",
    "HOST = \"localhost\"\n",
    "PORT = \"5432\"\n",
    "PASS = \"password\"\n",
    "USER = \"postgres\""
   ]
  },
  {
   "cell_type": "code",
   "execution_count": 13,
   "metadata": {
    "collapsed": true
   },
   "outputs": [],
   "source": [
    "url_conect = USER + ':' + PASS + '@' + HOST+ ':' + PORT + '/'+ DB\n",
    "engine = create_engine('postgresql://' + url_conect)"
   ]
  },
  {
   "cell_type": "code",
   "execution_count": 23,
   "metadata": {
    "collapsed": false
   },
   "outputs": [],
   "source": [
    "metadata = MetaData()\n",
    "\n",
    "\n",
    "estate = Table('estate', metadata,\n",
    "              Column('id', Integer, primary_key=True),\n",
    "              Column('category', String),\n",
    "              Column('area', Float, nullable=False),\n",
    "              Column('city', String, nullable=False),\n",
    "              Column('province', String, nullable=False),\n",
    "              Column('rooms', Integer, nullable=False),\n",
    "              Column('bedrooms', Integer, nullable=False),\n",
    "              Column('garage', Integer),\n",
    "              Column('meters', Float, nullable=False))\n",
    "\n",
    "customer = Table('customer', metadata,\n",
    "                Column('id', Integer, primary_key=True),\n",
    "                Column('name', String, nullable=False),\n",
    "                Column('surname', String, nullable=False),\n",
    "                Column('budget', Float),\n",
    "                Column('address', String),\n",
    "                Column('city', String),\n",
    "                Column('phone', String))\n",
    "\n",
    "visit = Table('visit', metadata, \n",
    "             Column('id', Integer, primary_key=True),\n",
    "             Column('duration', Integer, nullable=False))\n",
    "\n",
    "sale = Table('sale', metadata, \n",
    "            Column('id', Integer, primary_key=True),\n",
    "            Column('agreed_price', Float, nullable=False),\n",
    "            Column('status', String, nullable=False))\n",
    "\n",
    "fact = Table('fact', metadata,\n",
    "            Column('id', Integer, primary_key=True),\n",
    "            Column('id_estate', Integer, ForeignKey('estate.id')),\n",
    "            Column('id_cust', Integer, ForeignKey('customer.id')),\n",
    "            Column('date', Date, nullable=False),\n",
    "            Column('id_visit', Integer, ForeignKey('visit.id'), nullable=True),\n",
    "            Column('id_sale', Integer, ForeignKey('sale.id'), nullable=True))\n"
   ]
  },
  {
   "cell_type": "code",
   "execution_count": 24,
   "metadata": {
    "collapsed": false
   },
   "outputs": [],
   "source": [
    "metadata.create_all(engine)"
   ]
  },
  {
   "cell_type": "code",
   "execution_count": null,
   "metadata": {
    "collapsed": true
   },
   "outputs": [],
   "source": []
  }
 ],
 "metadata": {
  "kernelspec": {
   "display_name": "Python 3",
   "language": "python",
   "name": "python3"
  },
  "language_info": {
   "codemirror_mode": {
    "name": "ipython",
    "version": 3
   },
   "file_extension": ".py",
   "mimetype": "text/x-python",
   "name": "python",
   "nbconvert_exporter": "python",
   "pygments_lexer": "ipython3",
   "version": "3.4.3"
  }
 },
 "nbformat": 4,
 "nbformat_minor": 0
}
