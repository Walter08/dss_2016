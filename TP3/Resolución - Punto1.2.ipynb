{
 "cells": [
  {
   "cell_type": "code",
   "execution_count": 35,
   "metadata": {
    "collapsed": true
   },
   "outputs": [],
   "source": [
    "import pandas as pd\n",
    "import numpy as np\n",
    "from sqlalchemy import MetaData, create_engine, Table, Column, ForeignKey\n",
    "from sqlalchemy import Integer, String, Date, Float, Time\n",
    "from sqlalchemy import exc"
   ]
  },
  {
   "cell_type": "code",
   "execution_count": 12,
   "metadata": {
    "collapsed": true
   },
   "outputs": [],
   "source": [
    "#Constantes\n",
    "DB = \"tp312\"\n",
    "HOST = \"localhost\"\n",
    "PORT = \"5432\"\n",
    "PASS = \"password\"\n",
    "USER = \"postgres\""
   ]
  },
  {
   "cell_type": "markdown",
   "metadata": {},
   "source": [
    "# Diagrama de DW  - Inmobiliaria"
   ]
  },
  {
   "cell_type": "markdown",
   "metadata": {},
   "source": [
    "![Diagrama](img/Inmobiliaria.png \"Diagrama\")"
   ]
  },
  {
   "cell_type": "code",
   "execution_count": 13,
   "metadata": {
    "collapsed": true
   },
   "outputs": [],
   "source": [
    "url_conect = USER + ':' + PASS + '@' + HOST+ ':' + PORT + '/'+ DB\n",
    "engine = create_engine('postgresql://' + url_conect)"
   ]
  },
  {
   "cell_type": "code",
   "execution_count": 27,
   "metadata": {
    "collapsed": false
   },
   "outputs": [],
   "source": [
    "metadata = MetaData()\n",
    "\n",
    "\n",
    "estate = Table('estate', metadata,\n",
    "              Column('id', Integer, primary_key=True),\n",
    "              Column('category', String),\n",
    "              Column('area', Float, nullable=False),\n",
    "              Column('city', String, nullable=False),\n",
    "              Column('province', String, nullable=False),\n",
    "              Column('rooms', Integer, nullable=False),\n",
    "              Column('bedrooms', Integer, nullable=False),\n",
    "              Column('garage', Integer),\n",
    "              Column('meters', Float, nullable=False))\n",
    "\n",
    "customer = Table('customer', metadata,\n",
    "                Column('id', Integer, primary_key=True),\n",
    "                Column('name', String, nullable=False),\n",
    "                Column('surname', String, nullable=False),\n",
    "                Column('budget', Float),\n",
    "                Column('address', String),\n",
    "                Column('city', String),\n",
    "                Column('phone', String))\n",
    "\n",
    "visit = Table('visit', metadata, \n",
    "             Column('id', Integer, primary_key=True),\n",
    "             Column('duration', Integer, nullable=False))\n",
    "\n",
    "sale = Table('sale', metadata, \n",
    "            Column('id', Integer, primary_key=True),\n",
    "            Column('agreed_price', Float, nullable=False),\n",
    "            Column('status', String, nullable=False))\n",
    "\n",
    "fact = Table('fact', metadata,\n",
    "            Column('id', Integer, primary_key=True),\n",
    "            Column('id_estate', Integer, ForeignKey('estate.id')),\n",
    "            Column('id_cust', Integer, ForeignKey('customer.id')),\n",
    "            Column('date', Date, nullable=False),\n",
    "            Column('id_visit', Integer, ForeignKey('visit.id'), nullable=True),\n",
    "            Column('id_sale', Integer, ForeignKey('sale.id'), nullable=True))\n"
   ]
  },
  {
   "cell_type": "code",
   "execution_count": 28,
   "metadata": {
    "collapsed": false
   },
   "outputs": [],
   "source": [
    "metadata.create_all(engine)"
   ]
  },
  {
   "cell_type": "markdown",
   "metadata": {
    "collapsed": true
   },
   "source": [
    "Carga de Datos\n",
    "--------------"
   ]
  },
  {
   "cell_type": "code",
   "execution_count": 36,
   "metadata": {
    "collapsed": false
   },
   "outputs": [
    {
     "name": "stdout",
     "output_type": "stream",
     "text": [
      "Los datos ya han sido cargados en la BD\n"
     ]
    }
   ],
   "source": [
    "try:\n",
    "    df_estate = pd.read_csv('dataTp3/Inmobilaria/Estate.csv')\n",
    "    df_estate.to_sql('estate', engine, index=None, if_exists=\"append\")\n",
    "    \n",
    "except exc.IntegrityError:\n",
    "    print(\"Los datos de Estate ya han sido cargados en la BD\")"
   ]
  },
  {
   "cell_type": "code",
   "execution_count": 69,
   "metadata": {
    "collapsed": false
   },
   "outputs": [
    {
     "name": "stdout",
     "output_type": "stream",
     "text": [
      "Los datos de Customer ya han sido cargados en la BD\n"
     ]
    }
   ],
   "source": [
    "try:\n",
    "    df_customer = pd.read_csv('dataTp3/Inmobilaria/Customer.csv')\n",
    "    df_customer.to_sql('customer', engine, index=None, if_exists=\"append\")\n",
    "except exc.IntegrityError:\n",
    "    print(\"Los datos de Customer ya han sido cargados en la BD\")  "
   ]
  },
  {
   "cell_type": "code",
   "execution_count": 68,
   "metadata": {
    "collapsed": false
   },
   "outputs": [
    {
     "name": "stdout",
     "output_type": "stream",
     "text": [
      "Los datos de Visit ya han sido cargados en la BD\n"
     ]
    }
   ],
   "source": [
    "try:\n",
    "    df_visit = pd.read_csv('dataTp3/Inmobilaria/Visit.csv')\n",
    "    df_visit.to_sql('visit', engine, index=None, if_exists=\"append\")\n",
    "except exc.IntegrityError:\n",
    "    print(\"Los datos de Visit ya han sido cargados en la BD\")"
   ]
  },
  {
   "cell_type": "code",
   "execution_count": 67,
   "metadata": {
    "collapsed": false
   },
   "outputs": [
    {
     "name": "stdout",
     "output_type": "stream",
     "text": [
      "Los datos de Sale ya han sido cargados en la BD\n"
     ]
    }
   ],
   "source": [
    "try:\n",
    "    df_sale = pd.read_csv('dataTp3/Inmobilaria/Sale.csv')\n",
    "    df_sale.to_sql('sale', engine, index=None, if_exists=\"append\")\n",
    "except exc.IntegrityError:\n",
    "    print(\"Los datos de Sale ya han sido cargados en la BD\")"
   ]
  },
  {
   "cell_type": "code",
   "execution_count": 92,
   "metadata": {
    "collapsed": false
   },
   "outputs": [
    {
     "name": "stdout",
     "output_type": "stream",
     "text": [
      "Los datos de Fact ya han sido cargados en la BD\n"
     ]
    }
   ],
   "source": [
    "try:\n",
    "    df_fact = pd.read_csv('dataTp3/Inmobilaria/Fact.csv')\n",
    "    df_fact.to_sql('fact', engine, index=None, if_exists=\"append\")\n",
    "except exc.IntegrityError:\n",
    "    print(\"Los datos de Fact ya han sido cargados en la BD\")"
   ]
  },
  {
   "cell_type": "markdown",
   "metadata": {},
   "source": [
    "# Consultas"
   ]
  },
  {
   "cell_type": "markdown",
   "metadata": {},
   "source": [
    "## Consulta 1: \n",
    "¿Qué tipo de propiedad se vendió por el precio más alto con respecto a cada\n",
    "ciudad y meses?"
   ]
  },
  {
   "cell_type": "code",
   "execution_count": null,
   "metadata": {
    "collapsed": false
   },
   "outputs": [],
   "source": [
    "no funciono"
   ]
  },
  {
   "cell_type": "markdown",
   "metadata": {},
   "source": [
    "## Consulta 2:"
   ]
  },
  {
   "cell_type": "code",
   "execution_count": null,
   "metadata": {
    "collapsed": true
   },
   "outputs": [],
   "source": [
    "select * from (\n",
    "\tselect mes, \"name\", surname, agreed_price, rank()\n",
    "\tover (partition by mes order by agreed_price DESC)\n",
    "\tfrom (\n",
    "\t\tselect date_part('month',\"date\") as mes, \"name\", \"surname\", category, agreed_price\n",
    "\t\tfrom fact inner join estate on (id_estate = estate.id) \n",
    "                  inner join sale on (id_sale = sale.id) \n",
    "                  inner join customer on (id_cust = customer.id)\n",
    "\t\twhere id_sale is not NULL and category = 'piso'\n",
    "\torder by agreed_price DESC) as pepe\n",
    ") sub_query \n",
    "where rank = 1"
   ]
  },
  {
   "cell_type": "markdown",
   "metadata": {},
   "source": [
    "## Consulta 3:"
   ]
  },
  {
   "cell_type": "code",
   "execution_count": null,
   "metadata": {
    "collapsed": true
   },
   "outputs": [],
   "source": [
    "select distinct category, cat\n",
    "from (\n",
    "\tselect category, avg(duration)\n",
    "\tover(partition by category ) as cat\n",
    "\tfrom fact inner join estate on (id_estate = estate.id) \n",
    "\t\t  inner join visit on (id_visit = visit.id)\n",
    ") as promedio"
   ]
  }
 ],
 "metadata": {
  "kernelspec": {
   "display_name": "Python 3",
   "language": "python",
   "name": "python3"
  },
  "language_info": {
   "codemirror_mode": {
    "name": "ipython",
    "version": 3
   },
   "file_extension": ".py",
   "mimetype": "text/x-python",
   "name": "python",
   "nbconvert_exporter": "python",
   "pygments_lexer": "ipython3",
   "version": "3.4.3"
  }
 },
 "nbformat": 4,
 "nbformat_minor": 0
}
