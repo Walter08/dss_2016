{
 "cells": [
  {
   "cell_type": "code",
   "execution_count": 6,
   "metadata": {
    "collapsed": true
   },
   "outputs": [],
   "source": [
    "import pandas as pd\n",
    "import numpy as np\n",
    "from sqlalchemy import MetaData, create_engine, Table, Column, ForeignKey\n",
    "from sqlalchemy import Integer, String, Date, Float, Time\n",
    "from sqlalchemy import exc"
   ]
  },
  {
   "cell_type": "code",
   "execution_count": 7,
   "metadata": {
    "collapsed": true
   },
   "outputs": [],
   "source": [
    "#Constantes\n",
    "DB = \"tp3\"\n",
    "HOST = \"localhost\"\n",
    "PORT = \"5432\"\n",
    "PASS = \"postgres\"\n",
    "USER = \"postgres\""
   ]
  },
  {
   "cell_type": "markdown",
   "metadata": {},
   "source": [
    "# Diagrama de DW  - Inmobiliaria"
   ]
  },
  {
   "cell_type": "markdown",
   "metadata": {},
   "source": [
    "![Diagrama](img/Inmobiliaria.png \"Diagrama\")"
   ]
  },
  {
   "cell_type": "code",
   "execution_count": 8,
   "metadata": {
    "collapsed": true
   },
   "outputs": [],
   "source": [
    "url_conect = USER + ':' + PASS + '@' + HOST+ ':' + PORT + '/'+ DB\n",
    "engine = create_engine('postgresql://' + url_conect)"
   ]
  },
  {
   "cell_type": "code",
   "execution_count": 27,
   "metadata": {
    "collapsed": false
   },
   "outputs": [],
   "source": [
    "metadata = MetaData()\n",
    "\n",
    "\n",
    "estate = Table('estate', metadata,\n",
    "              Column('id', Integer, primary_key=True),\n",
    "              Column('category', String),\n",
    "              Column('area', Float, nullable=False),\n",
    "              Column('city', String, nullable=False),\n",
    "              Column('province', String, nullable=False),\n",
    "              Column('rooms', Integer, nullable=False),\n",
    "              Column('bedrooms', Integer, nullable=False),\n",
    "              Column('garage', Integer),\n",
    "              Column('meters', Float, nullable=False))\n",
    "\n",
    "customer = Table('customer', metadata,\n",
    "                Column('id', Integer, primary_key=True),\n",
    "                Column('name', String, nullable=False),\n",
    "                Column('surname', String, nullable=False),\n",
    "                Column('budget', Float),\n",
    "                Column('address', String),\n",
    "                Column('city', String),\n",
    "                Column('phone', String))\n",
    "\n",
    "visit = Table('visit', metadata, \n",
    "             Column('id', Integer, primary_key=True),\n",
    "             Column('duration', Integer, nullable=False))\n",
    "\n",
    "sale = Table('sale', metadata, \n",
    "            Column('id', Integer, primary_key=True),\n",
    "            Column('agreed_price', Float, nullable=False),\n",
    "            Column('status', String, nullable=False))\n",
    "\n",
    "fact = Table('fact', metadata,\n",
    "            Column('id', Integer, primary_key=True),\n",
    "            Column('id_estate', Integer, ForeignKey('estate.id')),\n",
    "            Column('id_cust', Integer, ForeignKey('customer.id')),\n",
    "            Column('date', Date, nullable=False),\n",
    "            Column('id_visit', Integer, ForeignKey('visit.id'), nullable=True),\n",
    "            Column('id_sale', Integer, ForeignKey('sale.id'), nullable=True))\n"
   ]
  },
  {
   "cell_type": "code",
   "execution_count": 28,
   "metadata": {
    "collapsed": false
   },
   "outputs": [],
   "source": [
    "metadata.create_all(engine)"
   ]
  },
  {
   "cell_type": "markdown",
   "metadata": {
    "collapsed": true
   },
   "source": [
    "Carga de Datos\n",
    "--------------"
   ]
  },
  {
   "cell_type": "code",
   "execution_count": 21,
   "metadata": {
    "collapsed": false
   },
   "outputs": [
    {
     "name": "stdout",
     "output_type": "stream",
     "text": [
      "Los datos de Estate ya han sido cargados en la BD\n"
     ]
    }
   ],
   "source": [
    "try:\n",
    "    df_estate = pd.read_csv('dataTp3/Inmobilaria/Estate.csv')\n",
    "    df_estate.to_sql('estate', engine, index=None, if_exists=\"append\")\n",
    "    \n",
    "except exc.IntegrityError:\n",
    "    print(\"Los datos de Estate ya han sido cargados en la BD\")"
   ]
  },
  {
   "cell_type": "code",
   "execution_count": 22,
   "metadata": {
    "collapsed": false
   },
   "outputs": [
    {
     "name": "stdout",
     "output_type": "stream",
     "text": [
      "Los datos de Customer ya han sido cargados en la BD\n"
     ]
    }
   ],
   "source": [
    "try:\n",
    "    df_customer = pd.read_csv('dataTp3/Inmobilaria/Customer.csv')\n",
    "    df_customer.to_sql('customer', engine, index=None, if_exists=\"append\")\n",
    "except exc.IntegrityError:\n",
    "    print(\"Los datos de Customer ya han sido cargados en la BD\")  "
   ]
  },
  {
   "cell_type": "code",
   "execution_count": 23,
   "metadata": {
    "collapsed": false
   },
   "outputs": [
    {
     "name": "stdout",
     "output_type": "stream",
     "text": [
      "Los datos de Visit ya han sido cargados en la BD\n"
     ]
    }
   ],
   "source": [
    "try:\n",
    "    df_visit = pd.read_csv('dataTp3/Inmobilaria/Visit.csv')\n",
    "    df_visit.to_sql('visit', engine, index=None, if_exists=\"append\")\n",
    "except exc.IntegrityError:\n",
    "    print(\"Los datos de Visit ya han sido cargados en la BD\")"
   ]
  },
  {
   "cell_type": "code",
   "execution_count": 24,
   "metadata": {
    "collapsed": false
   },
   "outputs": [
    {
     "name": "stdout",
     "output_type": "stream",
     "text": [
      "Los datos de Sale ya han sido cargados en la BD\n"
     ]
    }
   ],
   "source": [
    "try:\n",
    "    df_sale = pd.read_csv('dataTp3/Inmobilaria/Sale.csv')\n",
    "    df_sale.to_sql('sale', engine, index=None, if_exists=\"append\")\n",
    "except exc.IntegrityError:\n",
    "    print(\"Los datos de Sale ya han sido cargados en la BD\")"
   ]
  },
  {
   "cell_type": "code",
   "execution_count": 25,
   "metadata": {
    "collapsed": false
   },
   "outputs": [],
   "source": [
    "try:\n",
    "    df_fact = pd.read_csv('dataTp3/Inmobilaria/Fact.csv')\n",
    "    df_fact.to_sql('fact', engine, index=None, if_exists=\"append\")\n",
    "except exc.IntegrityError:\n",
    "    print(\"Los datos de Fact ya han sido cargados en la BD\")"
   ]
  },
  {
   "cell_type": "markdown",
   "metadata": {},
   "source": [
    "# Consultas"
   ]
  },
  {
   "cell_type": "markdown",
   "metadata": {},
   "source": [
    "## Consulta 1: \n",
    "¿Qué tipo de propiedad se vendió por el precio más alto con respecto a cada\n",
    "ciudad y meses?"
   ]
  },
  {
   "cell_type": "code",
   "execution_count": null,
   "metadata": {
    "collapsed": false
   },
   "outputs": [],
   "source": [
    "no funciono"
   ]
  },
  {
   "cell_type": "markdown",
   "metadata": {},
   "source": [
    "## Consulta 2:\n",
    "¿Quén ha comprado un piso con el precio más alto con respecto a cada mes?"
   ]
  },
  {
   "cell_type": "code",
   "execution_count": 27,
   "metadata": {
    "collapsed": false
   },
   "outputs": [
    {
     "data": {
      "text/html": [
       "<div>\n",
       "<table border=\"1\" class=\"dataframe\">\n",
       "  <thead>\n",
       "    <tr style=\"text-align: right;\">\n",
       "      <th></th>\n",
       "      <th>mes</th>\n",
       "      <th>?column?</th>\n",
       "      <th>surname</th>\n",
       "      <th>agreed_price</th>\n",
       "      <th>rank</th>\n",
       "    </tr>\n",
       "  </thead>\n",
       "  <tbody>\n",
       "    <tr>\n",
       "      <th>0</th>\n",
       "      <td>1.0</td>\n",
       "      <td>name</td>\n",
       "      <td>Cook</td>\n",
       "      <td>8116995.0</td>\n",
       "      <td>1</td>\n",
       "    </tr>\n",
       "    <tr>\n",
       "      <th>1</th>\n",
       "      <td>2.0</td>\n",
       "      <td>name</td>\n",
       "      <td>Dunn</td>\n",
       "      <td>6368893.0</td>\n",
       "      <td>1</td>\n",
       "    </tr>\n",
       "    <tr>\n",
       "      <th>2</th>\n",
       "      <td>3.0</td>\n",
       "      <td>name</td>\n",
       "      <td>Mitchell</td>\n",
       "      <td>9766483.0</td>\n",
       "      <td>1</td>\n",
       "    </tr>\n",
       "    <tr>\n",
       "      <th>3</th>\n",
       "      <td>4.0</td>\n",
       "      <td>name</td>\n",
       "      <td>Price</td>\n",
       "      <td>5946760.0</td>\n",
       "      <td>1</td>\n",
       "    </tr>\n",
       "    <tr>\n",
       "      <th>4</th>\n",
       "      <td>5.0</td>\n",
       "      <td>name</td>\n",
       "      <td>Elliott</td>\n",
       "      <td>9911554.0</td>\n",
       "      <td>1</td>\n",
       "    </tr>\n",
       "    <tr>\n",
       "      <th>5</th>\n",
       "      <td>6.0</td>\n",
       "      <td>name</td>\n",
       "      <td>Thomas</td>\n",
       "      <td>5854180.0</td>\n",
       "      <td>1</td>\n",
       "    </tr>\n",
       "    <tr>\n",
       "      <th>6</th>\n",
       "      <td>7.0</td>\n",
       "      <td>name</td>\n",
       "      <td>Payne</td>\n",
       "      <td>6114295.0</td>\n",
       "      <td>1</td>\n",
       "    </tr>\n",
       "    <tr>\n",
       "      <th>7</th>\n",
       "      <td>8.0</td>\n",
       "      <td>name</td>\n",
       "      <td>Rose</td>\n",
       "      <td>6010489.0</td>\n",
       "      <td>1</td>\n",
       "    </tr>\n",
       "    <tr>\n",
       "      <th>8</th>\n",
       "      <td>10.0</td>\n",
       "      <td>name</td>\n",
       "      <td>George</td>\n",
       "      <td>7998435.0</td>\n",
       "      <td>1</td>\n",
       "    </tr>\n",
       "    <tr>\n",
       "      <th>9</th>\n",
       "      <td>11.0</td>\n",
       "      <td>name</td>\n",
       "      <td>Murray</td>\n",
       "      <td>4502727.0</td>\n",
       "      <td>1</td>\n",
       "    </tr>\n",
       "  </tbody>\n",
       "</table>\n",
       "</div>"
      ],
      "text/plain": [
       "    mes ?column?   surname  agreed_price  rank\n",
       "0   1.0     name      Cook     8116995.0     1\n",
       "1   2.0     name      Dunn     6368893.0     1\n",
       "2   3.0     name  Mitchell     9766483.0     1\n",
       "3   4.0     name     Price     5946760.0     1\n",
       "4   5.0     name   Elliott     9911554.0     1\n",
       "5   6.0     name    Thomas     5854180.0     1\n",
       "6   7.0     name     Payne     6114295.0     1\n",
       "7   8.0     name      Rose     6010489.0     1\n",
       "8  10.0     name    George     7998435.0     1\n",
       "9  11.0     name    Murray     4502727.0     1"
      ]
     },
     "execution_count": 27,
     "metadata": {},
     "output_type": "execute_result"
    }
   ],
   "source": [
    "string_sql = \"\"\"select * from (\n",
    "                    select mes, 'name', surname, agreed_price, rank() over particion_por_mes\n",
    "                        from ( select date_part('month',\"date\") as mes, \"name\", surname, category, agreed_price\n",
    "                            from fact inner join estate on (id_estate = estate.id)\n",
    "                            inner join sale on (id_sale = sale.id) \n",
    "                            inner join customer on (id_cust = customer.id)\n",
    "                        where id_sale is not NULL and category = 'piso'\n",
    "                        order by agreed_price DESC) as pepe\n",
    "                        WINDOW particion_por_mes AS (partition by mes order by agreed_price DESC)\n",
    "                ) as sub_query\n",
    "                WHERE rank = 1; \"\"\"\n",
    "\n",
    "df_clientes_pisos = pd.read_sql_query(string_sql,engine.connect()) \n",
    "df_clientes_pisos\n"
   ]
  },
  {
   "cell_type": "markdown",
   "metadata": {},
   "source": [
    "## Consulta 3:\n",
    "¿Cuál es la duración media de visitas en las propiedades de cada categoría?"
   ]
  },
  {
   "cell_type": "code",
   "execution_count": 28,
   "metadata": {
    "collapsed": false
   },
   "outputs": [
    {
     "data": {
      "text/html": [
       "<div>\n",
       "<table border=\"1\" class=\"dataframe\">\n",
       "  <thead>\n",
       "    <tr style=\"text-align: right;\">\n",
       "      <th></th>\n",
       "      <th>category</th>\n",
       "      <th>cat</th>\n",
       "    </tr>\n",
       "  </thead>\n",
       "  <tbody>\n",
       "    <tr>\n",
       "      <th>0</th>\n",
       "      <td>departamento</td>\n",
       "      <td>5.319231</td>\n",
       "    </tr>\n",
       "    <tr>\n",
       "      <th>1</th>\n",
       "      <td>casa</td>\n",
       "      <td>4.750000</td>\n",
       "    </tr>\n",
       "    <tr>\n",
       "      <th>2</th>\n",
       "      <td>duplex</td>\n",
       "      <td>6.375000</td>\n",
       "    </tr>\n",
       "    <tr>\n",
       "      <th>3</th>\n",
       "      <td>monoambiente</td>\n",
       "      <td>4.917355</td>\n",
       "    </tr>\n",
       "    <tr>\n",
       "      <th>4</th>\n",
       "      <td>triplex</td>\n",
       "      <td>5.250000</td>\n",
       "    </tr>\n",
       "    <tr>\n",
       "      <th>5</th>\n",
       "      <td>piso</td>\n",
       "      <td>5.000000</td>\n",
       "    </tr>\n",
       "  </tbody>\n",
       "</table>\n",
       "</div>"
      ],
      "text/plain": [
       "       category       cat\n",
       "0  departamento  5.319231\n",
       "1          casa  4.750000\n",
       "2        duplex  6.375000\n",
       "3  monoambiente  4.917355\n",
       "4       triplex  5.250000\n",
       "5          piso  5.000000"
      ]
     },
     "execution_count": 28,
     "metadata": {},
     "output_type": "execute_result"
    }
   ],
   "source": [
    "string_sql = \"\"\" select distinct category, cat\n",
    "                 from (\n",
    "                        select category, avg(duration)\n",
    "                        over particion_por_categoria as cat\n",
    "                        from (\n",
    "                                fact inner join estate on (id_estate = estate.id) \n",
    "                                inner join visit on (id_visit = visit.id) )\n",
    "                        WINDOW particion_por_categoria AS (partition by category)\n",
    "                 ) as promedio; \"\"\"\n",
    "df_mayor_duracion = pd.read_sql_query(string_sql,engine.connect()) \n",
    "df_mayor_duracion\n"
   ]
  }
 ],
 "metadata": {
  "kernelspec": {
   "display_name": "Python 2",
   "language": "python",
   "name": "python2"
  },
  "language_info": {
   "codemirror_mode": {
    "name": "ipython",
    "version": 2
   },
   "file_extension": ".py",
   "mimetype": "text/x-python",
   "name": "python",
   "nbconvert_exporter": "python",
   "pygments_lexer": "ipython2",
   "version": "2.7.6"
  }
 },
 "nbformat": 4,
 "nbformat_minor": 0
}
