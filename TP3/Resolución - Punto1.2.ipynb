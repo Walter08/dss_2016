{
 "cells": [
  {
   "cell_type": "code",
   "execution_count": 16,
   "metadata": {
    "collapsed": true
   },
   "outputs": [],
   "source": [
    "import pandas as pd\n",
    "import numpy as np\n",
    "from sqlalchemy import MetaData, create_engine\n",
    "from sqlalchemy import Integer, String, Date, Float, Time"
   ]
  },
  {
   "cell_type": "code",
   "execution_count": 19,
   "metadata": {
    "collapsed": true
   },
   "outputs": [],
   "source": [
    "#Constantes\n",
    "DB = \"tp312\"\n",
    "HOST = \"localhost\"\n",
    "PORT = \"5432\"\n",
    "PASS = \"password\"\n",
    "USER = \"postgres\""
   ]
  },
  {
   "cell_type": "code",
   "execution_count": 20,
   "metadata": {
    "collapsed": true
   },
   "outputs": [],
   "source": [
    "url_conect = USER + ':' + PASS + '@' + HOST+ ':' + PORT + '/'+ DB\n",
    "engine = create_engine('postgresql://' + url_conect)"
   ]
  },
  {
   "cell_type": "code",
   "execution_count": 21,
   "metadata": {
    "collapsed": false
   },
   "outputs": [],
   "source": [
    "metadata = MetaData()\n",
    "\n",
    "owner = Table('owner', metadata, \n",
    "              Column(\"id\", Integer, primary_key=True),\n",
    "              Column(\"name\", String, nullable=False),\n",
    "              Column('surname', String, nullable=False),\n",
    "              Column('address', String, nullable=False),\n",
    "              Column('phone', String, nullable=False))\n",
    "\n",
    "estate = Table('estate', metadata,\n",
    "              Column('id', Integer, primary_key=True),\n",
    "              Column('id_owner', Integer, ForeignKey('owner.id')),\n",
    "              Column('category', String),\n",
    "              Column('area', Float, nullable=False),\n",
    "              Column('city', String, nullable=False),\n",
    "              Column('province', String, nullable=False),\n",
    "              Column('rooms', Integer, nullable=False),\n",
    "              Column('bedrooms', Integer, nullable=False),\n",
    "              Column('garage', Integer),\n",
    "              Column('meters', Float, nullable=False))\n",
    "\n",
    "customer = Table('customer', metadata,\n",
    "                Column('id', Integer, primary_key=True),\n",
    "                Column('name', String),\n",
    "                Column('surname', String),\n",
    "                Column('budget', Float),\n",
    "                Column('address', String),\n",
    "                Column('city', String),\n",
    "                Column('phone', String))\n",
    "\n",
    "agent = Table('agent', metadata, \n",
    "             Column('id', Integer, primary_key=True),\n",
    "             Column('name', String),\n",
    "             Column('surname', String),\n",
    "             Column('office', String),\n",
    "             Column('address', String),\n",
    "             Column('city', String),\n",
    "             Column('phone', String))\n",
    "\n",
    "agenda = Table('agenda', metadata, \n",
    "              Column('id', Integer, primary_key=True),\n",
    "              Column('data', String),\n",
    "              Column('hour', Time),\n",
    "              Column('id_estate', Integer, ForeignKey('estate.id')),\n",
    "              Column('cliente_name', String))\n",
    "\n",
    "visit = Table('visit', metadata, \n",
    "             Column('id_estate', Integer, ForeignKey('estate.id')),\n",
    "             Column('id_agent', Integer, ForeignKey('agent.id')),\n",
    "             Column('id_cust', Integer, ForeignKey('customer.id')),\n",
    "             Column('date', Date),\n",
    "             Column('duration', Integer))\n",
    "\n",
    "sale = Table('sale', metadata, \n",
    "            Column('id_estate', Integer, ForeignKey('estate.id')),\n",
    "            Column('id_agent', Integer, ForeignKey('agent.id')),\n",
    "            Column('id_cust', Integer, ForeignKey('customer.id')),\n",
    "            Column('date', Date),\n",
    "            Column('agreed_price', Float),\n",
    "            Column('status', String))\n",
    "\n",
    "rent = Table('rent', metadata, \n",
    "            Column('id_estate', Integer, ForeignKey('estate.id')),\n",
    "            Column('id_agent', Integer, ForeignKey('agent.id')),\n",
    "            Column('id_cust', Integer, ForeignKey('customer.id')),\n",
    "            Column('date', Date),\n",
    "            Column('price', Float),\n",
    "            Column('status', String),\n",
    "            Column('time', Integer))\n"
   ]
  },
  {
   "cell_type": "code",
   "execution_count": 22,
   "metadata": {
    "collapsed": true
   },
   "outputs": [],
   "source": [
    "metadata.create_all(engine)"
   ]
  },
  {
   "cell_type": "code",
   "execution_count": null,
   "metadata": {
    "collapsed": true
   },
   "outputs": [],
   "source": []
  }
 ],
 "metadata": {
  "kernelspec": {
   "display_name": "Python 3",
   "language": "python",
   "name": "python3"
  },
  "language_info": {
   "codemirror_mode": {
    "name": "ipython",
    "version": 3
   },
   "file_extension": ".py",
   "mimetype": "text/x-python",
   "name": "python",
   "nbconvert_exporter": "python",
   "pygments_lexer": "ipython3",
   "version": "3.4.3"
  }
 },
 "nbformat": 4,
 "nbformat_minor": 0
}
